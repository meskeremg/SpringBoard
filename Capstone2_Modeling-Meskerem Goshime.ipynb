{
 "cells": [
  {
   "cell_type": "markdown",
   "id": "2167a86d",
   "metadata": {},
   "source": [
    "# Modeling - LendingClub Loan Listings Data\n",
    "\n",
    "Meskerem Goshime\n",
    "\n",
    "Data Source: https://www.kaggle.com/datasets/husainsb/lendingclub-issued-loans\n",
    "\n",
    "“LendingClub is a US peer-to-peer lending company, headquartered in San Francisco, California.” The company “enables borrowers to create unsecured personal loans between 1,000𝑎𝑛𝑑 40,000. The standard loan period is three years. Investors can search and browse the loan listings on Lending Club website and select loans that they want to invest in based on the information supplied about the borrower, amount of loan, loan grade, and loan purpose. Investors make money from interest. Lending Club makes money by charging borrowers an origination fee and investors a service fee.” (source: https://www.kaggle.com/datasets/husainsb/lendingclub-issued-loans?select=lc_2016_2017.csv)​\n",
    "\n",
    "This study aims to help LendingClub in making informed lending decisions and investors make informed investment decisions"
   ]
  },
  {
   "cell_type": "code",
   "execution_count": 51,
   "id": "c804c271",
   "metadata": {},
   "outputs": [],
   "source": [
    "#import packages\n",
    "import pandas as pd\n",
    "import numpy as np\n",
    "import matplotlib.pyplot as plt\n",
    "import seaborn as sns\n",
    "from sklearn.metrics import classification_report, confusion_matrix, accuracy_score, roc_auc_score, roc_curve\n",
    "from sklearn.model_selection import GridSearchCV\n",
    "from sklearn.ensemble import RandomForestClassifier\n",
    "from sklearn.ensemble import GradientBoostingClassifier\n"
   ]
  },
  {
   "cell_type": "code",
   "execution_count": 2,
   "id": "740f2d26",
   "metadata": {},
   "outputs": [],
   "source": [
    "X_train = pd.read_csv('../data/processed/X_train.csv')\n",
    "y_train = pd.read_csv('../data/processed/y_train.csv')\n",
    "X_test = pd.read_csv('../data/processed/X_test.csv')\n",
    "y_test = pd.read_csv('../data/processed/y_test.csv')"
   ]
  },
  {
   "cell_type": "code",
   "execution_count": 3,
   "id": "5fa8f25a",
   "metadata": {},
   "outputs": [],
   "source": [
    "# converting y_train and y_test to numpy arrays\n",
    "y_train = y_train['loan_status'].to_numpy()\n",
    "y_test = y_test['loan_status'].to_numpy()"
   ]
  },
  {
   "cell_type": "code",
   "execution_count": 4,
   "id": "5b627226",
   "metadata": {
    "scrolled": false
   },
   "outputs": [
    {
     "name": "stdout",
     "output_type": "stream",
     "text": [
      "(656443, 33) (656443,) (164111, 33) (164111,)\n"
     ]
    }
   ],
   "source": [
    "print(X_train.shape, y_train.shape, X_test.shape, y_test.shape)"
   ]
  },
  {
   "cell_type": "markdown",
   "id": "6f6c2625",
   "metadata": {},
   "source": [
    "# Feature Importance - Random Forest"
   ]
  },
  {
   "cell_type": "code",
   "execution_count": 5,
   "id": "da1a1296",
   "metadata": {
    "scrolled": true
   },
   "outputs": [
    {
     "data": {
      "text/plain": [
       "array(['dti', 'annual_inc', 'loan_amnt', 'int_rate', 'open_acc',\n",
       "       'emp_length', 'sub_grade', 'inq_last_6mths', 'delinq_2yrs',\n",
       "       'grade'], dtype=object)"
      ]
     },
     "execution_count": 5,
     "metadata": {},
     "output_type": "execute_result"
    }
   ],
   "source": [
    "# Feature Importance\n",
    "\n",
    "rf = RandomForestClassifier(n_estimators=200, random_state=1, n_jobs=-1)\n",
    "rf.fit(X_train, y_train)\n",
    "y_pred = rf.predict(X_test)\n",
    "\n",
    "importance = rf.feature_importances_\n",
    "columns = X_train.columns\n",
    "importance = pd.DataFrame({'column': columns, 'importance': importance})\n",
    "importance = importance.sort_values('importance', ascending=False)\n",
    "imp_features = importance.iloc[0:10, :]\n",
    "imp_features = imp_features['column'].to_numpy()\n",
    "imp_features"
   ]
  },
  {
   "cell_type": "code",
   "execution_count": 6,
   "id": "791a7a8d",
   "metadata": {},
   "outputs": [
    {
     "data": {
      "text/html": [
       "<div>\n",
       "<style scoped>\n",
       "    .dataframe tbody tr th:only-of-type {\n",
       "        vertical-align: middle;\n",
       "    }\n",
       "\n",
       "    .dataframe tbody tr th {\n",
       "        vertical-align: top;\n",
       "    }\n",
       "\n",
       "    .dataframe thead th {\n",
       "        text-align: right;\n",
       "    }\n",
       "</style>\n",
       "<table border=\"1\" class=\"dataframe\">\n",
       "  <thead>\n",
       "    <tr style=\"text-align: right;\">\n",
       "      <th></th>\n",
       "      <th>dti</th>\n",
       "      <th>annual_inc</th>\n",
       "      <th>loan_amnt</th>\n",
       "      <th>int_rate</th>\n",
       "      <th>open_acc</th>\n",
       "      <th>emp_length</th>\n",
       "      <th>sub_grade</th>\n",
       "      <th>inq_last_6mths</th>\n",
       "      <th>delinq_2yrs</th>\n",
       "      <th>grade</th>\n",
       "    </tr>\n",
       "  </thead>\n",
       "  <tbody>\n",
       "    <tr>\n",
       "      <th>0</th>\n",
       "      <td>-1.146909</td>\n",
       "      <td>4.182613</td>\n",
       "      <td>2.391644</td>\n",
       "      <td>-0.930613</td>\n",
       "      <td>0.264161</td>\n",
       "      <td>-0.821394</td>\n",
       "      <td>-0.760369</td>\n",
       "      <td>-0.696715</td>\n",
       "      <td>-0.366546</td>\n",
       "      <td>-0.604579</td>\n",
       "    </tr>\n",
       "    <tr>\n",
       "      <th>1</th>\n",
       "      <td>0.423021</td>\n",
       "      <td>0.007524</td>\n",
       "      <td>0.014601</td>\n",
       "      <td>0.169171</td>\n",
       "      <td>-0.865627</td>\n",
       "      <td>1.089267</td>\n",
       "      <td>0.317199</td>\n",
       "      <td>0.303337</td>\n",
       "      <td>-0.366546</td>\n",
       "      <td>0.156731</td>\n",
       "    </tr>\n",
       "    <tr>\n",
       "      <th>2</th>\n",
       "      <td>-0.576248</td>\n",
       "      <td>0.079097</td>\n",
       "      <td>-0.698512</td>\n",
       "      <td>-0.015647</td>\n",
       "      <td>-0.865627</td>\n",
       "      <td>1.089267</td>\n",
       "      <td>0.163261</td>\n",
       "      <td>-0.696715</td>\n",
       "      <td>-0.366546</td>\n",
       "      <td>0.156731</td>\n",
       "    </tr>\n",
       "  </tbody>\n",
       "</table>\n",
       "</div>"
      ],
      "text/plain": [
       "        dti  annual_inc  loan_amnt  int_rate  open_acc  emp_length  sub_grade  \\\n",
       "0 -1.146909    4.182613   2.391644 -0.930613  0.264161   -0.821394  -0.760369   \n",
       "1  0.423021    0.007524   0.014601  0.169171 -0.865627    1.089267   0.317199   \n",
       "2 -0.576248    0.079097  -0.698512 -0.015647 -0.865627    1.089267   0.163261   \n",
       "\n",
       "   inq_last_6mths  delinq_2yrs     grade  \n",
       "0       -0.696715    -0.366546 -0.604579  \n",
       "1        0.303337    -0.366546  0.156731  \n",
       "2       -0.696715    -0.366546  0.156731  "
      ]
     },
     "execution_count": 6,
     "metadata": {},
     "output_type": "execute_result"
    }
   ],
   "source": [
    "# Taking the top 10 important features\n",
    "\n",
    "X_train = X_train[imp_features]\n",
    "X_train.head(3)"
   ]
  },
  {
   "cell_type": "code",
   "execution_count": 7,
   "id": "62081204",
   "metadata": {},
   "outputs": [
    {
     "data": {
      "text/html": [
       "<div>\n",
       "<style scoped>\n",
       "    .dataframe tbody tr th:only-of-type {\n",
       "        vertical-align: middle;\n",
       "    }\n",
       "\n",
       "    .dataframe tbody tr th {\n",
       "        vertical-align: top;\n",
       "    }\n",
       "\n",
       "    .dataframe thead th {\n",
       "        text-align: right;\n",
       "    }\n",
       "</style>\n",
       "<table border=\"1\" class=\"dataframe\">\n",
       "  <thead>\n",
       "    <tr style=\"text-align: right;\">\n",
       "      <th></th>\n",
       "      <th>dti</th>\n",
       "      <th>annual_inc</th>\n",
       "      <th>loan_amnt</th>\n",
       "      <th>int_rate</th>\n",
       "      <th>open_acc</th>\n",
       "      <th>emp_length</th>\n",
       "      <th>sub_grade</th>\n",
       "      <th>inq_last_6mths</th>\n",
       "      <th>delinq_2yrs</th>\n",
       "      <th>grade</th>\n",
       "    </tr>\n",
       "  </thead>\n",
       "  <tbody>\n",
       "    <tr>\n",
       "      <th>0</th>\n",
       "      <td>1.127163</td>\n",
       "      <td>-0.899067</td>\n",
       "      <td>0.430583</td>\n",
       "      <td>-0.743513</td>\n",
       "      <td>0.640758</td>\n",
       "      <td>-1.094346</td>\n",
       "      <td>-0.606431</td>\n",
       "      <td>-0.696715</td>\n",
       "      <td>-0.366546</td>\n",
       "      <td>-0.604579</td>\n",
       "    </tr>\n",
       "    <tr>\n",
       "      <th>1</th>\n",
       "      <td>0.274845</td>\n",
       "      <td>1.725275</td>\n",
       "      <td>2.391644</td>\n",
       "      <td>2.323106</td>\n",
       "      <td>1.958844</td>\n",
       "      <td>-0.548443</td>\n",
       "      <td>2.164459</td>\n",
       "      <td>5.303592</td>\n",
       "      <td>-0.366546</td>\n",
       "      <td>2.440662</td>\n",
       "    </tr>\n",
       "    <tr>\n",
       "      <th>2</th>\n",
       "      <td>0.861426</td>\n",
       "      <td>0.031382</td>\n",
       "      <td>1.975661</td>\n",
       "      <td>0.166890</td>\n",
       "      <td>-0.300733</td>\n",
       "      <td>-0.275491</td>\n",
       "      <td>0.163261</td>\n",
       "      <td>-0.696715</td>\n",
       "      <td>-0.366546</td>\n",
       "      <td>0.156731</td>\n",
       "    </tr>\n",
       "  </tbody>\n",
       "</table>\n",
       "</div>"
      ],
      "text/plain": [
       "        dti  annual_inc  loan_amnt  int_rate  open_acc  emp_length  sub_grade  \\\n",
       "0  1.127163   -0.899067   0.430583 -0.743513  0.640758   -1.094346  -0.606431   \n",
       "1  0.274845    1.725275   2.391644  2.323106  1.958844   -0.548443   2.164459   \n",
       "2  0.861426    0.031382   1.975661  0.166890 -0.300733   -0.275491   0.163261   \n",
       "\n",
       "   inq_last_6mths  delinq_2yrs     grade  \n",
       "0       -0.696715    -0.366546 -0.604579  \n",
       "1        5.303592    -0.366546  2.440662  \n",
       "2       -0.696715    -0.366546  0.156731  "
      ]
     },
     "execution_count": 7,
     "metadata": {},
     "output_type": "execute_result"
    }
   ],
   "source": [
    "X_test = X_test[imp_features]\n",
    "X_test.head(3)"
   ]
  },
  {
   "cell_type": "markdown",
   "id": "ab664003",
   "metadata": {},
   "source": [
    "# Hyperparameter Tuining - Random Forest"
   ]
  },
  {
   "cell_type": "code",
   "execution_count": 10,
   "id": "e44e2f7c",
   "metadata": {},
   "outputs": [
    {
     "name": "stdout",
     "output_type": "stream",
     "text": [
      "0.930942976179345\n",
      "{'n_estimators': 300}\n"
     ]
    }
   ],
   "source": [
    "# Tuning Random Forest Hyperparameters with GridSearchCV.\n",
    "# The GridSearchCV chose 300 for n_estimators.\n",
    "\n",
    "from sklearn.model_selection import GridSearchCV\n",
    "\n",
    "params = {'n_estimators':[100, 200, 300]}\n",
    "rf = RandomForestClassifier(random_state=1)\n",
    "\n",
    "gs = GridSearchCV(estimator=rf, param_grid=params, n_jobs=-1)\n",
    "\n",
    "gs_rf = gs.fit(X_train, y_train)\n",
    "y_pred = gs_rf.predict(X_test)\n",
    "\n",
    "print(gs_rf.best_score_)\n",
    "print(gs_rf.best_params_)\n"
   ]
  },
  {
   "cell_type": "code",
   "execution_count": 14,
   "id": "fdac9e95",
   "metadata": {},
   "outputs": [
    {
     "name": "stdout",
     "output_type": "stream",
     "text": [
      "n_estimators: 50 ROC/AUC Score: 0.7231499051158256\n",
      "[[152382    139]\n",
      " [ 11539     51]]\n",
      "n_estimators: 100 ROC/AUC Score: 0.7340407147656589\n",
      "[[152425     96]\n",
      " [ 11546     44]]\n",
      "n_estimators: 300 ROC/AUC Score: 0.7411626548728726\n",
      "[[152444     77]\n",
      " [ 11555     35]]\n",
      "n_estimators: 500 ROC/AUC Score: 0.7426437437243611\n",
      "[[152450     71]\n",
      " [ 11557     33]]\n",
      "n_estimators: 800 ROC/AUC Score: 0.743579921120807\n",
      "[[152457     64]\n",
      " [ 11556     34]]\n"
     ]
    }
   ],
   "source": [
    "# Tuininig the Random Forest Classifier manually.\n",
    "# The manual tuining seems to run faster and I was able to test more values. \n",
    "# I am going to go with 500 as it seems to work better, so I am going to go with that.\n",
    "\n",
    "n = [50, 100, 300, 500, 800]\n",
    "for i in n:\n",
    "    rf = RandomForestClassifier(n_estimators=i, random_state=1, n_jobs=-1)\n",
    "    rf.fit(X_train, y_train)\n",
    "    y_pred_rf = rf.predict(X_test)  \n",
    "    y_pred_probs_rf = rf.predict_proba(X_test)[:,1]\n",
    "    fpr_rf, tpr_rf, thresholds_rf = roc_curve(y_test, y_pred_probs_rf)\n",
    "    print('n_estimators:', i, 'ROC/AUC Score:', roc_auc_score(y_test, y_pred_probs_rf))\n",
    "    cm_rf = confusion_matrix(y_test, y_pred_rf)\n",
    "    print(cm_rf)"
   ]
  },
  {
   "cell_type": "markdown",
   "id": "a402ac50",
   "metadata": {},
   "source": [
    "# Random Forest model with the chosen n_estimators value."
   ]
  },
  {
   "cell_type": "code",
   "execution_count": 59,
   "id": "8bd2252f",
   "metadata": {},
   "outputs": [
    {
     "data": {
      "text/plain": [
       "RandomForestClassifier(n_estimators=500, n_jobs=-1, random_state=1)"
      ]
     },
     "execution_count": 59,
     "metadata": {},
     "output_type": "execute_result"
    }
   ],
   "source": [
    "rf = RandomForestClassifier(n_estimators=500, random_state=1, n_jobs=-1)\n",
    "rf.fit(X_train, y_train)\n",
    "\n",
    "# using the most important features made only a small difference."
   ]
  },
  {
   "cell_type": "code",
   "execution_count": 65,
   "id": "9b3a4181",
   "metadata": {},
   "outputs": [
    {
     "name": "stdout",
     "output_type": "stream",
     "text": [
      "[[152450     71]\n",
      " [ 11557     33]]\n",
      "ROC/AUC Score:  0.7426437437243611\n"
     ]
    },
    {
     "data": {
      "image/png": "[encoded data removed]",
      "text/plain": [
       "<Figure size 432x288 with 1 Axes>"
      ]
     },
     "metadata": {
      "needs_background": "light"
     },
     "output_type": "display_data"
    }
   ],
   "source": [
    "y_pred_rf = rf.predict(X_test)  \n",
    "cm_rf = confusion_matrix(y_test, y_pred_rf)\n",
    "print(cm_rf)\n",
    "\n",
    "# ROC AUC Score\n",
    "\n",
    "y_pred_probs_rf = rf.predict_proba(X_test)[:,1]\n",
    "from sklearn.metrics import roc_auc_score\n",
    "print('ROC/AUC Score: ', roc_auc_score(y_test, y_pred_probs_rf))\n",
    "\n",
    "# ROC Curve\n",
    "from sklearn.metrics import roc_curve\n",
    "fpr_rf, tpr_rf, thresholds_rf = roc_curve(y_test, y_pred_probs_rf)\n",
    "plt.plot([0,1], [0,1], 'k--')\n",
    "plt.plot(fpr_rf, tpr_rf)\n",
    "plt.xlabel('False Positive Rate')\n",
    "plt.ylabel('True Positive Rate')\n",
    "plt.title('ROC Curve - Random Forest Classifier')\n",
    "plt.show()\n",
    "\n"
   ]
  },
  {
   "cell_type": "markdown",
   "id": "75fcbd18",
   "metadata": {},
   "source": [
    "# Optimal Threshold Value - Random Forest"
   ]
  },
  {
   "cell_type": "code",
   "execution_count": 61,
   "id": "e8734085",
   "metadata": {},
   "outputs": [
    {
     "data": {
      "text/html": [
       "<div>\n",
       "<style scoped>\n",
       "    .dataframe tbody tr th:only-of-type {\n",
       "        vertical-align: middle;\n",
       "    }\n",
       "\n",
       "    .dataframe tbody tr th {\n",
       "        vertical-align: top;\n",
       "    }\n",
       "\n",
       "    .dataframe thead th {\n",
       "        text-align: right;\n",
       "    }\n",
       "</style>\n",
       "<table border=\"1\" class=\"dataframe\">\n",
       "  <thead>\n",
       "    <tr style=\"text-align: right;\">\n",
       "      <th></th>\n",
       "      <th>tpr</th>\n",
       "      <th>fpr</th>\n",
       "      <th>thresholds</th>\n",
       "      <th>tpr-fpr</th>\n",
       "    </tr>\n",
       "  </thead>\n",
       "  <tbody>\n",
       "    <tr>\n",
       "      <th>253</th>\n",
       "      <td>0.727437</td>\n",
       "      <td>0.365320</td>\n",
       "      <td>0.072</td>\n",
       "      <td>0.362117</td>\n",
       "    </tr>\n",
       "    <tr>\n",
       "      <th>254</th>\n",
       "      <td>0.735289</td>\n",
       "      <td>0.374067</td>\n",
       "      <td>0.070</td>\n",
       "      <td>0.361223</td>\n",
       "    </tr>\n",
       "    <tr>\n",
       "      <th>255</th>\n",
       "      <td>0.743141</td>\n",
       "      <td>0.382708</td>\n",
       "      <td>0.068</td>\n",
       "      <td>0.360433</td>\n",
       "    </tr>\n",
       "    <tr>\n",
       "      <th>256</th>\n",
       "      <td>0.751596</td>\n",
       "      <td>0.391625</td>\n",
       "      <td>0.066</td>\n",
       "      <td>0.359971</td>\n",
       "    </tr>\n",
       "    <tr>\n",
       "      <th>250</th>\n",
       "      <td>0.701294</td>\n",
       "      <td>0.341363</td>\n",
       "      <td>0.078</td>\n",
       "      <td>0.359931</td>\n",
       "    </tr>\n",
       "    <tr>\n",
       "      <th>...</th>\n",
       "      <td>...</td>\n",
       "      <td>...</td>\n",
       "      <td>...</td>\n",
       "      <td>...</td>\n",
       "    </tr>\n",
       "    <tr>\n",
       "      <th>2</th>\n",
       "      <td>0.000259</td>\n",
       "      <td>0.000000</td>\n",
       "      <td>0.654</td>\n",
       "      <td>0.000259</td>\n",
       "    </tr>\n",
       "    <tr>\n",
       "      <th>3</th>\n",
       "      <td>0.000259</td>\n",
       "      <td>0.000020</td>\n",
       "      <td>0.624</td>\n",
       "      <td>0.000239</td>\n",
       "    </tr>\n",
       "    <tr>\n",
       "      <th>1</th>\n",
       "      <td>0.000086</td>\n",
       "      <td>0.000000</td>\n",
       "      <td>0.692</td>\n",
       "      <td>0.000086</td>\n",
       "    </tr>\n",
       "    <tr>\n",
       "      <th>0</th>\n",
       "      <td>0.000000</td>\n",
       "      <td>0.000000</td>\n",
       "      <td>1.692</td>\n",
       "      <td>0.000000</td>\n",
       "    </tr>\n",
       "    <tr>\n",
       "      <th>289</th>\n",
       "      <td>1.000000</td>\n",
       "      <td>1.000000</td>\n",
       "      <td>0.000</td>\n",
       "      <td>0.000000</td>\n",
       "    </tr>\n",
       "  </tbody>\n",
       "</table>\n",
       "<p>290 rows × 4 columns</p>\n",
       "</div>"
      ],
      "text/plain": [
       "          tpr       fpr  thresholds   tpr-fpr\n",
       "253  0.727437  0.365320       0.072  0.362117\n",
       "254  0.735289  0.374067       0.070  0.361223\n",
       "255  0.743141  0.382708       0.068  0.360433\n",
       "256  0.751596  0.391625       0.066  0.359971\n",
       "250  0.701294  0.341363       0.078  0.359931\n",
       "..        ...       ...         ...       ...\n",
       "2    0.000259  0.000000       0.654  0.000259\n",
       "3    0.000259  0.000020       0.624  0.000239\n",
       "1    0.000086  0.000000       0.692  0.000086\n",
       "0    0.000000  0.000000       1.692  0.000000\n",
       "289  1.000000  1.000000       0.000  0.000000\n",
       "\n",
       "[290 rows x 4 columns]"
      ]
     },
     "execution_count": 61,
     "metadata": {},
     "output_type": "execute_result"
    }
   ],
   "source": [
    "# Defining a function to find the optimal threshold value\n",
    "def optimal_thr(tpr, fpr, thresholds):\n",
    "    tpr_fpr_tres = pd.DataFrame({'tpr':tpr, 'fpr':fpr, 'thresholds':thresholds, 'tpr-fpr':tpr-fpr})\n",
    "    tpr_fpr_tres = tpr_fpr_tres.sort_values(by='tpr-fpr', ascending=False)\n",
    "    return tpr_fpr_tres\n",
    "\n",
    "optimal_thr(tpr_rf, fpr_rf, thresholds_rf)\n",
    "\n",
    "# Optimal threshold value seems to be 0.07"
   ]
  },
  {
   "cell_type": "code",
   "execution_count": 62,
   "id": "ad45333c",
   "metadata": {},
   "outputs": [
    {
     "name": "stdout",
     "output_type": "stream",
     "text": [
      "0    102744\n",
      "1     61367\n",
      "Name: class_new, dtype: int64\n",
      "   y_test  y_pred_proba  y_pred  class_new\n",
      "0       0          0.00       0          0\n",
      "1       0          0.00       0          0\n",
      "2       0          0.00       0          0\n",
      "3       0          0.02       0          0\n",
      "4       0          0.01       0          0\n"
     ]
    },
    {
     "name": "stderr",
     "output_type": "stream",
     "text": [
      "C:\\Users\\meske\\AppData\\Local\\Temp/ipykernel_26144/3845527429.py:5: SettingWithCopyWarning: \n",
      "A value is trying to be set on a copy of a slice from a DataFrame.\n",
      "Try using .loc[row_indexer,col_indexer] = value instead\n",
      "\n",
      "See the caveats in the documentation: https://pandas.pydata.org/pandas-docs/stable/user_guide/indexing.html#returning-a-view-versus-a-copy\n",
      "  bad_loans['class_new']=1\n",
      "C:\\Users\\meske\\AppData\\Local\\Temp/ipykernel_26144/3845527429.py:7: SettingWithCopyWarning: \n",
      "A value is trying to be set on a copy of a slice from a DataFrame.\n",
      "Try using .loc[row_indexer,col_indexer] = value instead\n",
      "\n",
      "See the caveats in the documentation: https://pandas.pydata.org/pandas-docs/stable/user_guide/indexing.html#returning-a-view-versus-a-copy\n",
      "  good_loans['class_new']=0\n"
     ]
    }
   ],
   "source": [
    "# new class predictions using the optimal threshold value, which is 0.07.\n",
    "\n",
    "pred_new_rf = pd.DataFrame({'y_test': y_test, 'y_pred_proba': y_pred_probs_rf, 'y_pred': y_pred_rf})\n",
    "bad_loans = pred_new[pred_new['y_pred_proba']>=0.072]\n",
    "bad_loans['class_new']=1\n",
    "good_loans = pred_new[pred_new['y_pred_proba']<0.072]\n",
    "good_loans['class_new']=0\n",
    "good_loans.reset_index(drop=True, inplace=True)\n",
    "bad_loans.reset_index(drop=True, inplace=True)\n",
    "pred_new_rf = pd.concat([good_loans, bad_loans], axis=0)\n",
    "print(pred_new_rf['class_new'].value_counts())\n",
    "print(pred_new_rf.head())"
   ]
  },
  {
   "cell_type": "code",
   "execution_count": 63,
   "id": "79e34efc",
   "metadata": {},
   "outputs": [
    {
     "name": "stdout",
     "output_type": "stream",
     "text": [
      "[[99246 53275]\n",
      " [ 3498  8092]]\n"
     ]
    }
   ],
   "source": [
    "# Evaluating the confusion metrix with the new threshold value\n",
    "\n",
    "cm_rf = confusion_matrix(pred_new_rf['y_test'], pred_new_rf['class_new'])\n",
    "print(cm_rf)\n",
    "\n",
    "# We are now catching a lot more of the bad loans. \n",
    "# We are still missing 3248 bad loans, as predicting them as good loans.\n",
    "# With the default 0.5 threshold value, we were missing 11637 bad loans. \n",
    "# As a tradeoff, we are now misclassifing a lot more of the good loans as bad loans (59713)."
   ]
  },
  {
   "cell_type": "code",
   "execution_count": 64,
   "id": "62b417b1",
   "metadata": {},
   "outputs": [
    {
     "name": "stdout",
     "output_type": "stream",
     "text": [
      "              precision    recall  f1-score   support\n",
      "\n",
      "           0       0.97      0.65      0.78    152521\n",
      "           1       0.13      0.70      0.22     11590\n",
      "\n",
      "    accuracy                           0.65    164111\n",
      "   macro avg       0.55      0.67      0.50    164111\n",
      "weighted avg       0.91      0.65      0.74    164111\n",
      "\n"
     ]
    }
   ],
   "source": [
    "# Evaluating the classification report for the new threshold value\n",
    "\n",
    "cl_report_rf = classification_report(pred_new_rf['y_test'], pred_new_rf['class_new'])\n",
    "print(cl_report_rf)"
   ]
  },
  {
   "cell_type": "markdown",
   "id": "256eceff",
   "metadata": {},
   "source": [
    "# Logistic regression Model"
   ]
  },
  {
   "cell_type": "code",
   "execution_count": 37,
   "id": "538548ef",
   "metadata": {},
   "outputs": [],
   "source": [
    "from sklearn.linear_model import LogisticRegression\n",
    "lr = LogisticRegression()\n",
    "lr.fit(X_train, y_train)\n",
    "y_pred_lr = lr.predict(X_test)\n",
    "y_pred_probs_lr = lr.predict_proba(X_test)[:,1]\n"
   ]
  },
  {
   "cell_type": "code",
   "execution_count": 38,
   "id": "37afc53c",
   "metadata": {},
   "outputs": [
    {
     "data": {
      "image/png": "[encoded data removed]",
      "text/plain": [
       "<Figure size 432x288 with 1 Axes>"
      ]
     },
     "metadata": {
      "needs_background": "light"
     },
     "output_type": "display_data"
    }
   ],
   "source": [
    "fpr_lr, tpr_lr, thresholds_lr = roc_curve(y_test, y_pred_probs_lr)\n",
    "plt.plot([0,1], [0,1], 'k--')\n",
    "plt.plot(fpr_lr, tpr_lr)\n",
    "plt.xlabel('False Positive Rate')\n",
    "plt.ylabel('True Positive Rate')\n",
    "plt.title('Logistic Regression ROC Curve')\n",
    "plt.show()"
   ]
  },
  {
   "cell_type": "code",
   "execution_count": 39,
   "id": "f7f310fc",
   "metadata": {},
   "outputs": [
    {
     "name": "stdout",
     "output_type": "stream",
     "text": [
      "ROC/AUC Score:  0.722759154245151\n"
     ]
    }
   ],
   "source": [
    "# ROC/AUC Score\n",
    "\n",
    "print('ROC/AUC Score: ', roc_auc_score(y_test, y_pred_probs_lr))\n",
    "\n",
    "# The ROC/AUC Score is a little bit less than that of the RandomForest Model"
   ]
  },
  {
   "cell_type": "code",
   "execution_count": 44,
   "id": "62a7b88f",
   "metadata": {},
   "outputs": [
    {
     "name": "stdout",
     "output_type": "stream",
     "text": [
      "[[152520      1]\n",
      " [ 11590      0]]\n"
     ]
    }
   ],
   "source": [
    "cm_lr = confusion_matrix(y_test, y_pred_lr)\n",
    "print(cm_lr)"
   ]
  },
  {
   "cell_type": "code",
   "execution_count": 46,
   "id": "e8d9b47b",
   "metadata": {},
   "outputs": [
    {
     "name": "stdout",
     "output_type": "stream",
     "text": [
      "              precision    recall  f1-score   support\n",
      "\n",
      "           0       0.97      0.63      0.76    152521\n",
      "           1       0.13      0.70      0.21     11590\n",
      "\n",
      "    accuracy                           0.64    164111\n",
      "   macro avg       0.55      0.67      0.49    164111\n",
      "weighted avg       0.91      0.64      0.72    164111\n",
      "\n"
     ]
    }
   ],
   "source": [
    "cl_report_lr = classification_report(pred_new_lr['y_test'], pred_new_lr['class_new'])\n",
    "print(cl_report_lr)"
   ]
  },
  {
   "cell_type": "code",
   "execution_count": 47,
   "id": "8abae0cf",
   "metadata": {},
   "outputs": [
    {
     "data": {
      "text/html": [
       "<div>\n",
       "<style scoped>\n",
       "    .dataframe tbody tr th:only-of-type {\n",
       "        vertical-align: middle;\n",
       "    }\n",
       "\n",
       "    .dataframe tbody tr th {\n",
       "        vertical-align: top;\n",
       "    }\n",
       "\n",
       "    .dataframe thead th {\n",
       "        text-align: right;\n",
       "    }\n",
       "</style>\n",
       "<table border=\"1\" class=\"dataframe\">\n",
       "  <thead>\n",
       "    <tr style=\"text-align: right;\">\n",
       "      <th></th>\n",
       "      <th>tpr</th>\n",
       "      <th>fpr</th>\n",
       "      <th>thresholds</th>\n",
       "      <th>tpr-fpr</th>\n",
       "    </tr>\n",
       "  </thead>\n",
       "  <tbody>\n",
       "    <tr>\n",
       "      <th>13993</th>\n",
       "      <td>0.702847</td>\n",
       "      <td>0.369143</td>\n",
       "      <td>0.065015</td>\n",
       "      <td>0.333705</td>\n",
       "    </tr>\n",
       "    <tr>\n",
       "      <th>13997</th>\n",
       "      <td>0.703020</td>\n",
       "      <td>0.369385</td>\n",
       "      <td>0.064987</td>\n",
       "      <td>0.333635</td>\n",
       "    </tr>\n",
       "    <tr>\n",
       "      <th>13755</th>\n",
       "      <td>0.691890</td>\n",
       "      <td>0.358272</td>\n",
       "      <td>0.066346</td>\n",
       "      <td>0.333618</td>\n",
       "    </tr>\n",
       "    <tr>\n",
       "      <th>14003</th>\n",
       "      <td>0.703279</td>\n",
       "      <td>0.369687</td>\n",
       "      <td>0.064948</td>\n",
       "      <td>0.333592</td>\n",
       "    </tr>\n",
       "    <tr>\n",
       "      <th>14001</th>\n",
       "      <td>0.703192</td>\n",
       "      <td>0.369602</td>\n",
       "      <td>0.064958</td>\n",
       "      <td>0.333591</td>\n",
       "    </tr>\n",
       "    <tr>\n",
       "      <th>...</th>\n",
       "      <td>...</td>\n",
       "      <td>...</td>\n",
       "      <td>...</td>\n",
       "      <td>...</td>\n",
       "    </tr>\n",
       "    <tr>\n",
       "      <th>20552</th>\n",
       "      <td>0.998965</td>\n",
       "      <td>0.999371</td>\n",
       "      <td>0.005433</td>\n",
       "      <td>-0.000406</td>\n",
       "    </tr>\n",
       "    <tr>\n",
       "      <th>20558</th>\n",
       "      <td>0.999310</td>\n",
       "      <td>0.999725</td>\n",
       "      <td>0.004382</td>\n",
       "      <td>-0.000415</td>\n",
       "    </tr>\n",
       "    <tr>\n",
       "      <th>20555</th>\n",
       "      <td>0.999137</td>\n",
       "      <td>0.999580</td>\n",
       "      <td>0.004796</td>\n",
       "      <td>-0.000443</td>\n",
       "    </tr>\n",
       "    <tr>\n",
       "      <th>20556</th>\n",
       "      <td>0.999137</td>\n",
       "      <td>0.999646</td>\n",
       "      <td>0.004626</td>\n",
       "      <td>-0.000509</td>\n",
       "    </tr>\n",
       "    <tr>\n",
       "      <th>20554</th>\n",
       "      <td>0.999051</td>\n",
       "      <td>0.999580</td>\n",
       "      <td>0.004811</td>\n",
       "      <td>-0.000529</td>\n",
       "    </tr>\n",
       "  </tbody>\n",
       "</table>\n",
       "<p>20571 rows × 4 columns</p>\n",
       "</div>"
      ],
      "text/plain": [
       "            tpr       fpr  thresholds   tpr-fpr\n",
       "13993  0.702847  0.369143    0.065015  0.333705\n",
       "13997  0.703020  0.369385    0.064987  0.333635\n",
       "13755  0.691890  0.358272    0.066346  0.333618\n",
       "14003  0.703279  0.369687    0.064948  0.333592\n",
       "14001  0.703192  0.369602    0.064958  0.333591\n",
       "...         ...       ...         ...       ...\n",
       "20552  0.998965  0.999371    0.005433 -0.000406\n",
       "20558  0.999310  0.999725    0.004382 -0.000415\n",
       "20555  0.999137  0.999580    0.004796 -0.000443\n",
       "20556  0.999137  0.999646    0.004626 -0.000509\n",
       "20554  0.999051  0.999580    0.004811 -0.000529\n",
       "\n",
       "[20571 rows x 4 columns]"
      ]
     },
     "execution_count": 47,
     "metadata": {},
     "output_type": "execute_result"
    }
   ],
   "source": [
    "# Finding the optimal threshold value\n",
    "\n",
    "optimal_thr(tpr_lr, fpr_lr, thresholds_lr)\n",
    "\n",
    "# The optimal threshold is 0.0.065015"
   ]
  },
  {
   "cell_type": "code",
   "execution_count": 48,
   "id": "d046cbf0",
   "metadata": {},
   "outputs": [
    {
     "name": "stdout",
     "output_type": "stream",
     "text": [
      "0    99662\n",
      "1    64449\n",
      "Name: class_new, dtype: int64\n",
      "   y_test  y_pred_proba  y_pred  class_new\n",
      "0       0      0.033398       0          0\n",
      "1       0      0.058912       0          0\n",
      "2       0      0.050097       0          0\n",
      "3       0      0.028555       0          0\n",
      "4       0      0.019249       0          0\n",
      "0    99662\n",
      "1    64449\n",
      "Name: class_new, dtype: int64\n"
     ]
    },
    {
     "name": "stderr",
     "output_type": "stream",
     "text": [
      "C:\\Users\\meske\\AppData\\Local\\Temp/ipykernel_26144/1667885789.py:4: SettingWithCopyWarning: \n",
      "A value is trying to be set on a copy of a slice from a DataFrame.\n",
      "Try using .loc[row_indexer,col_indexer] = value instead\n",
      "\n",
      "See the caveats in the documentation: https://pandas.pydata.org/pandas-docs/stable/user_guide/indexing.html#returning-a-view-versus-a-copy\n",
      "  bad_loans_lr['class_new']=1\n",
      "C:\\Users\\meske\\AppData\\Local\\Temp/ipykernel_26144/1667885789.py:6: SettingWithCopyWarning: \n",
      "A value is trying to be set on a copy of a slice from a DataFrame.\n",
      "Try using .loc[row_indexer,col_indexer] = value instead\n",
      "\n",
      "See the caveats in the documentation: https://pandas.pydata.org/pandas-docs/stable/user_guide/indexing.html#returning-a-view-versus-a-copy\n",
      "  good_loans_lr['class_new']=0\n"
     ]
    }
   ],
   "source": [
    "# Making predictions using the optimal threshold value (using Prediction_optimal function defined a while back).\n",
    "pred_new_lr = pd.DataFrame({'y_test': y_test, 'y_pred_proba': y_pred_probs_lr, 'y_pred': y_pred_lr})\n",
    "bad_loans_lr = pred_new_lr[pred_new_lr['y_pred_proba']>=0.065015]\n",
    "bad_loans_lr['class_new']=1\n",
    "good_loans_lr = pred_new_lr[pred_new_lr['y_pred_proba']<0.065015]\n",
    "good_loans_lr['class_new']=0\n",
    "good_loans_lr.reset_index(drop=True, inplace=True)\n",
    "bad_loans_lr.reset_index(drop=True, inplace=True)\n",
    "pred_new_lr = pd.concat([good_loans_lr, bad_loans_lr], axis=0)\n",
    "print(pred_new_lr['class_new'].value_counts())\n",
    "\n",
    "#prediction_optimal(y_test, y_pred_probs_lr, y_pred_lr, 0.066120)\n",
    "print(pred_new_lr.head())\n",
    "print(pred_new_lr['class_new'].value_counts())"
   ]
  },
  {
   "cell_type": "code",
   "execution_count": 49,
   "id": "1dce558a",
   "metadata": {},
   "outputs": [
    {
     "data": {
      "text/plain": [
       "array([[96218, 56303],\n",
       "       [ 3444,  8146]], dtype=int64)"
      ]
     },
     "execution_count": 49,
     "metadata": {},
     "output_type": "execute_result"
    }
   ],
   "source": [
    "cm_lr = confusion_matrix(pred_new_lr['y_test'], pred_new_lr['class_new'])\n",
    "cm_lr\n"
   ]
  },
  {
   "cell_type": "code",
   "execution_count": null,
   "id": "301649d6",
   "metadata": {},
   "outputs": [],
   "source": []
  },
  {
   "cell_type": "markdown",
   "id": "3d7af69f",
   "metadata": {},
   "source": [
    "# Gradient Boosting Model"
   ]
  },
  {
   "cell_type": "code",
   "execution_count": 41,
   "id": "29226da9",
   "metadata": {},
   "outputs": [],
   "source": [
    "from sklearn.ensemble import GradientBoostingClassifier"
   ]
  },
  {
   "cell_type": "code",
   "execution_count": 42,
   "id": "bfbdf40a",
   "metadata": {},
   "outputs": [
    {
     "name": "stdout",
     "output_type": "stream",
     "text": [
      "n_estimators: 50 ROC/AUC Score: 0.736095647565221\n",
      "n_estimators: 100 ROC/AUC Score: 0.7462947853928249\n",
      "n_estimators: 200 ROC/AUC Score: 0.7568687131212115\n",
      "n_estimators: 400 ROC/AUC Score: 0.7634268006908046\n",
      "n_estimators: 600 ROC/AUC Score: 0.7661286464865029\n"
     ]
    }
   ],
   "source": [
    "# Searching for the best paramaters using manual tuining.\n",
    "\n",
    "n = [50, 100, 200, 400, 600]\n",
    "for i in n:\n",
    "    gb = GradientBoostingClassifier(\n",
    "    n_estimators=i,\n",
    "    learning_rate=0.1,\n",
    "    max_depth=3)\n",
    "    gb.fit(X_train, y_train)\n",
    "    y_pred_gb = gb.predict(X_test)\n",
    "    y_pred_probs_gb = gb.predict_proba(X_test)[:,1]\n",
    "    fpr_gb, tpr_gb, thresholds_gb = roc_curve(y_test, y_pred_probs_gb)\n",
    "    print('n_estimators:', i, 'ROC/AUC Score:', roc_auc_score(y_test, y_pred_probs_gb))"
   ]
  },
  {
   "cell_type": "code",
   "execution_count": 43,
   "id": "76a4720f",
   "metadata": {},
   "outputs": [],
   "source": [
    "# The performance of the model seems to increase with increasing n_estimators value.\n",
    "# However, going beyond 600 for n_estimators will make the processing time very long. \n",
    "\n",
    "# Reducing the max_depth to 1 and increasing n_estimators to 800.\n",
    "\n",
    "gb = GradientBoostingClassifier(\n",
    "    n_estimators=800,\n",
    "    learning_rate=0.1,\n",
    "    max_depth=1)\n",
    "gb.fit(X_train, y_train)\n",
    "y_pred_gb = gb.predict(X_test)\n",
    "y_pred_probs_gb = gb.predict_proba(X_test)[:,1]"
   ]
  },
  {
   "cell_type": "code",
   "execution_count": 53,
   "id": "60e7b3e3",
   "metadata": {},
   "outputs": [
    {
     "name": "stdout",
     "output_type": "stream",
     "text": [
      "n_estimators: 800 ROC/AUC Score: 0.7661109756854427\n"
     ]
    }
   ],
   "source": [
    "fpr_gb, tpr_gb, thresholds_gb = roc_curve(y_test, y_pred_probs_gb)\n",
    "print('n_estimators:', 800, 'ROC/AUC Score:', roc_auc_score(y_test, y_pred_probs_gb))"
   ]
  },
  {
   "cell_type": "code",
   "execution_count": 45,
   "id": "b428402e",
   "metadata": {},
   "outputs": [],
   "source": [
    "# In the end, I am choosing 600 for n_estimators and 3 for max_depth."
   ]
  },
  {
   "cell_type": "code",
   "execution_count": 52,
   "id": "d65a838b",
   "metadata": {},
   "outputs": [],
   "source": [
    "# Running Gradient Boosting Classifier with chosen parameters.\n",
    "\n",
    "gb = GradientBoostingClassifier(\n",
    "    n_estimators=600,\n",
    "    learning_rate=0.1,\n",
    "    max_depth=3)\n",
    "gb.fit(X_train, y_train)\n",
    "y_pred_gb = gb.predict(X_test)\n",
    "y_pred_probs_gb = gb.predict_proba(X_test)[:,1]"
   ]
  },
  {
   "cell_type": "code",
   "execution_count": 54,
   "id": "1bf295ae",
   "metadata": {
    "scrolled": true
   },
   "outputs": [
    {
     "data": {
      "image/png": "[encoded data removed]",
      "text/plain": [
       "<Figure size 432x288 with 1 Axes>"
      ]
     },
     "metadata": {
      "needs_background": "light"
     },
     "output_type": "display_data"
    },
    {
     "name": "stdout",
     "output_type": "stream",
     "text": [
      "0.7661109756854427\n"
     ]
    }
   ],
   "source": [
    "fpr_gb, tpr_gb, thresholds_gb = roc_curve(y_test, y_pred_probs_gb)\n",
    "plt.plot([0,1], [0,1], 'k--')\n",
    "plt.plot(fpr_gb, tpr_gb)\n",
    "plt.xlabel('False Positive Rate')\n",
    "plt.ylabel('True Positive Rate')\n",
    "plt.title('Gradient Boosting Classification ROC Curve')\n",
    "plt.show()\n",
    "\n",
    "# ROC/AUC Score\n",
    "\n",
    "print(roc_auc_score(y_test, y_pred_probs_gb))\n"
   ]
  },
  {
   "cell_type": "code",
   "execution_count": 57,
   "id": "982ffeb2",
   "metadata": {},
   "outputs": [
    {
     "name": "stdout",
     "output_type": "stream",
     "text": [
      "[[152487     34]\n",
      " [ 11572     18]]\n"
     ]
    }
   ],
   "source": [
    "cm_gb = confusion_matrix(y_test, y_pred_gb)\n",
    "print(cm_gb)"
   ]
  },
  {
   "cell_type": "code",
   "execution_count": 58,
   "id": "a4570fab",
   "metadata": {},
   "outputs": [
    {
     "name": "stdout",
     "output_type": "stream",
     "text": [
      "              precision    recall  f1-score   support\n",
      "\n",
      "           0       0.97      0.68      0.80    152521\n",
      "           1       0.15      0.72      0.24     11590\n",
      "\n",
      "    accuracy                           0.68    164111\n",
      "   macro avg       0.56      0.70      0.52    164111\n",
      "weighted avg       0.91      0.68      0.76    164111\n",
      "\n"
     ]
    }
   ],
   "source": [
    "cl_report_gb = classification_report(pred_new_gb['y_test'], pred_new_gb['class_new'])\n",
    "print(cl_report_gb)"
   ]
  },
  {
   "cell_type": "code",
   "execution_count": 48,
   "id": "8df1cdff",
   "metadata": {},
   "outputs": [
    {
     "data": {
      "text/html": [
       "<div>\n",
       "<style scoped>\n",
       "    .dataframe tbody tr th:only-of-type {\n",
       "        vertical-align: middle;\n",
       "    }\n",
       "\n",
       "    .dataframe tbody tr th {\n",
       "        vertical-align: top;\n",
       "    }\n",
       "\n",
       "    .dataframe thead th {\n",
       "        text-align: right;\n",
       "    }\n",
       "</style>\n",
       "<table border=\"1\" class=\"dataframe\">\n",
       "  <thead>\n",
       "    <tr style=\"text-align: right;\">\n",
       "      <th></th>\n",
       "      <th>tpr</th>\n",
       "      <th>fpr</th>\n",
       "      <th>thresholds</th>\n",
       "      <th>tpr-fpr</th>\n",
       "    </tr>\n",
       "  </thead>\n",
       "  <tbody>\n",
       "    <tr>\n",
       "      <th>13949</th>\n",
       "      <td>0.717429</td>\n",
       "      <td>0.318520</td>\n",
       "      <td>0.073813</td>\n",
       "      <td>0.398909</td>\n",
       "    </tr>\n",
       "    <tr>\n",
       "      <th>13865</th>\n",
       "      <td>0.713546</td>\n",
       "      <td>0.314671</td>\n",
       "      <td>0.074494</td>\n",
       "      <td>0.398875</td>\n",
       "    </tr>\n",
       "    <tr>\n",
       "      <th>13867</th>\n",
       "      <td>0.713632</td>\n",
       "      <td>0.314789</td>\n",
       "      <td>0.074473</td>\n",
       "      <td>0.398843</td>\n",
       "    </tr>\n",
       "    <tr>\n",
       "      <th>13947</th>\n",
       "      <td>0.717343</td>\n",
       "      <td>0.318500</td>\n",
       "      <td>0.073818</td>\n",
       "      <td>0.398842</td>\n",
       "    </tr>\n",
       "    <tr>\n",
       "      <th>13869</th>\n",
       "      <td>0.713719</td>\n",
       "      <td>0.314881</td>\n",
       "      <td>0.074453</td>\n",
       "      <td>0.398837</td>\n",
       "    </tr>\n",
       "    <tr>\n",
       "      <th>...</th>\n",
       "      <td>...</td>\n",
       "      <td>...</td>\n",
       "      <td>...</td>\n",
       "      <td>...</td>\n",
       "    </tr>\n",
       "    <tr>\n",
       "      <th>22630</th>\n",
       "      <td>1.000000</td>\n",
       "      <td>0.999856</td>\n",
       "      <td>0.001847</td>\n",
       "      <td>0.000144</td>\n",
       "    </tr>\n",
       "    <tr>\n",
       "      <th>22631</th>\n",
       "      <td>1.000000</td>\n",
       "      <td>0.999869</td>\n",
       "      <td>0.001846</td>\n",
       "      <td>0.000131</td>\n",
       "    </tr>\n",
       "    <tr>\n",
       "      <th>0</th>\n",
       "      <td>0.000000</td>\n",
       "      <td>0.000000</td>\n",
       "      <td>1.999485</td>\n",
       "      <td>0.000000</td>\n",
       "    </tr>\n",
       "    <tr>\n",
       "      <th>22632</th>\n",
       "      <td>1.000000</td>\n",
       "      <td>1.000000</td>\n",
       "      <td>0.001712</td>\n",
       "      <td>0.000000</td>\n",
       "    </tr>\n",
       "    <tr>\n",
       "      <th>1</th>\n",
       "      <td>0.000000</td>\n",
       "      <td>0.000007</td>\n",
       "      <td>0.999485</td>\n",
       "      <td>-0.000007</td>\n",
       "    </tr>\n",
       "  </tbody>\n",
       "</table>\n",
       "<p>22633 rows × 4 columns</p>\n",
       "</div>"
      ],
      "text/plain": [
       "            tpr       fpr  thresholds   tpr-fpr\n",
       "13949  0.717429  0.318520    0.073813  0.398909\n",
       "13865  0.713546  0.314671    0.074494  0.398875\n",
       "13867  0.713632  0.314789    0.074473  0.398843\n",
       "13947  0.717343  0.318500    0.073818  0.398842\n",
       "13869  0.713719  0.314881    0.074453  0.398837\n",
       "...         ...       ...         ...       ...\n",
       "22630  1.000000  0.999856    0.001847  0.000144\n",
       "22631  1.000000  0.999869    0.001846  0.000131\n",
       "0      0.000000  0.000000    1.999485  0.000000\n",
       "22632  1.000000  1.000000    0.001712  0.000000\n",
       "1      0.000000  0.000007    0.999485 -0.000007\n",
       "\n",
       "[22633 rows x 4 columns]"
      ]
     },
     "execution_count": 48,
     "metadata": {},
     "output_type": "execute_result"
    }
   ],
   "source": [
    "# Finding the optimal threshold value\n",
    "\n",
    "optimal_thr(tpr_gb, fpr_gb, thresholds_gb)\n",
    "\n",
    "# The optimal threshold is 0.073607"
   ]
  },
  {
   "cell_type": "code",
   "execution_count": 55,
   "id": "b2f78f16",
   "metadata": {},
   "outputs": [
    {
     "name": "stdout",
     "output_type": "stream",
     "text": [
      "0    107216\n",
      "1     56895\n",
      "Name: class_new, dtype: int64\n",
      "   y_test  y_pred_proba  y_pred  class_new\n",
      "0       0      0.016489       0          0\n",
      "1       0      0.066184       0          0\n",
      "2       0      0.033607       0          0\n",
      "3       0      0.027959       0          0\n",
      "4       0      0.008251       0          0\n"
     ]
    },
    {
     "name": "stderr",
     "output_type": "stream",
     "text": [
      "C:\\Users\\meske\\AppData\\Local\\Temp/ipykernel_26144/2921482143.py:5: SettingWithCopyWarning: \n",
      "A value is trying to be set on a copy of a slice from a DataFrame.\n",
      "Try using .loc[row_indexer,col_indexer] = value instead\n",
      "\n",
      "See the caveats in the documentation: https://pandas.pydata.org/pandas-docs/stable/user_guide/indexing.html#returning-a-view-versus-a-copy\n",
      "  bad_loans_gb['class_new']=1\n",
      "C:\\Users\\meske\\AppData\\Local\\Temp/ipykernel_26144/2921482143.py:7: SettingWithCopyWarning: \n",
      "A value is trying to be set on a copy of a slice from a DataFrame.\n",
      "Try using .loc[row_indexer,col_indexer] = value instead\n",
      "\n",
      "See the caveats in the documentation: https://pandas.pydata.org/pandas-docs/stable/user_guide/indexing.html#returning-a-view-versus-a-copy\n",
      "  good_loans_gb['class_new']=0\n"
     ]
    }
   ],
   "source": [
    "# Making predictions using the optimal threshold value (using Prediction_optimal function defined a while back).\n",
    "\n",
    "pred_new_gb = pd.DataFrame({'y_test': y_test, 'y_pred_proba': y_pred_probs_gb, 'y_pred': y_pred_gb})\n",
    "bad_loans_gb = pred_new_gb[pred_new_gb['y_pred_proba']>=0.073813]\n",
    "bad_loans_gb['class_new']=1\n",
    "good_loans_gb = pred_new_gb[pred_new_gb['y_pred_proba']<0.073813]\n",
    "good_loans_gb['class_new']=0\n",
    "good_loans_gb.reset_index(drop=True, inplace=True)\n",
    "bad_loans_gb.reset_index(drop=True, inplace=True)\n",
    "pred_new_gb = pd.concat([good_loans_gb, bad_loans_gb], axis=0)\n",
    "print(pred_new_gb['class_new'].value_counts())\n",
    "print(pred_new_gb.head())"
   ]
  },
  {
   "cell_type": "code",
   "execution_count": 56,
   "id": "8e942546",
   "metadata": {},
   "outputs": [
    {
     "name": "stdout",
     "output_type": "stream",
     "text": [
      "Gradient Boosting Classification Confusion Matrix\n",
      "[[103940  48581]\n",
      " [  3276   8314]]\n"
     ]
    }
   ],
   "source": [
    "# Gradient Boosting Classification Confusion Matrix with the optimal threshold value.\n",
    "\n",
    "cm_gb = confusion_matrix(pred_new_gb['y_test'], pred_new_gb['class_new'])\n",
    "print('Gradient Boosting Confusion Matrix')\n",
    "print(cm_gb)"
   ]
  },
  {
   "attachments": {
    "image-4.png": {
     "image/png": "[encoded data removed]"
    },
    "image-5.png": {
     "image/png": "[encoded data removed]"
    },
    "image-8.png": {
     "image/png": "[encoded data removed]"
    }
   },
   "cell_type": "markdown",
   "id": "b01d5928",
   "metadata": {},
   "source": [
    "For Comparison:\n",
    "\n",
    "Gradient Boosting ROC/AUC Score: ![image-5.png](attachment:image-5.png)\n",
    "\n",
    "Random Forest ROC/AUC Score: ![image-8.png](attachment:image-8.png)\n",
    "\n",
    "Logistic Regression ROC/AUC Score: ![image-4.png](attachment:image-4.png)\n"
   ]
  },
  {
   "cell_type": "markdown",
   "id": "ca50e309",
   "metadata": {},
   "source": [
    "# Choosing the optimal model"
   ]
  },
  {
   "cell_type": "markdown",
   "id": "2511dca3",
   "metadata": {},
   "source": [
    "The best performing model is the Gradient Boosting Model for the following reasons.\n",
    "- It has the best ROC/AUC score and F1 Score.\n",
    "- It minimizes the false positives while also keeping the false negatives low. "
   ]
  },
  {
   "cell_type": "code",
   "execution_count": 66,
   "id": "649c74d1",
   "metadata": {},
   "outputs": [],
   "source": []
  }
 ],
 "metadata": {
  "kernelspec": {
   "display_name": "Python 3 (ipykernel)",
   "language": "python",
   "name": "python3"
  },
  "language_info": {
   "codemirror_mode": {
    "name": "ipython",
    "version": 3
   },
   "file_extension": ".py",
   "mimetype": "text/x-python",
   "name": "python",
   "nbconvert_exporter": "python",
   "pygments_lexer": "ipython3",
   "version": "3.9.7"
  }
 },
 "nbformat": 4,
 "nbformat_minor": 5
}
