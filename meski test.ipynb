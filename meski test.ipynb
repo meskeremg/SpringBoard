{
 "cells": [
  {
   "cell_type": "code",
   "execution_count": 1,
   "id": "2c4b26ab",
   "metadata": {},
   "outputs": [
    {
     "name": "stdout",
     "output_type": "stream",
     "text": [
      "peter\n"
     ]
    }
   ],
   "source": [
    "kids = ['caleb', 'peter']\n",
    "print(kids[1])"
   ]
  },
  {
   "cell_type": "code",
   "execution_count": 2,
   "id": "60497e87",
   "metadata": {},
   "outputs": [
    {
     "name": "stdout",
     "output_type": "stream",
     "text": [
      "['caleb', 'peter', 'sami']\n"
     ]
    }
   ],
   "source": [
    "kids.append('sami')\n",
    "print(kids)"
   ]
  },
  {
   "cell_type": "code",
   "execution_count": null,
   "id": "1ae3fe9b",
   "metadata": {},
   "outputs": [],
   "source": []
  }
 ],
 "metadata": {
  "kernelspec": {
   "display_name": "Python 3 (ipykernel)",
   "language": "python",
   "name": "python3"
  },
  "language_info": {
   "codemirror_mode": {
    "name": "ipython",
    "version": 3
   },
   "file_extension": ".py",
   "mimetype": "text/x-python",
   "name": "python",
   "nbconvert_exporter": "python",
   "pygments_lexer": "ipython3",
   "version": "3.9.7"
  }
 },
 "nbformat": 4,
 "nbformat_minor": 5
}
