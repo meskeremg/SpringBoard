{
 "cells": [
  {
   "cell_type": "code",
   "execution_count": 1,
   "id": "d1debfc9",
   "metadata": {},
   "outputs": [
    {
     "name": "stdout",
     "output_type": "stream",
     "text": [
      "peter\n"
     ]
    }
   ],
   "source": [
    "kids = ['caleb', 'peter']\n",
    "print(kids[1])"
   ]
  },
  {
   "cell_type": "code",
   "execution_count": 5,
   "id": "5fc4095e",
   "metadata": {},
   "outputs": [
    {
     "name": "stdout",
     "output_type": "stream",
     "text": [
      "peter\n",
      "['caleb', 'peter', 'sami']\n"
     ]
    }
   ],
   "source": [
    "kids = ['caleb', 'peter']\n",
    "print(kids[1])\n",
    "\n",
    "kids.append('sami')\n",
    "print(kids)"
   ]
  },
  {
   "cell_type": "code",
   "execution_count": 6,
   "id": "c5c4b410",
   "metadata": {},
   "outputs": [
    {
     "name": "stdout",
     "output_type": "stream",
     "text": [
      "['caleb', 'peter', 'sami', ['abi', 'sami2']]\n"
     ]
    }
   ],
   "source": [
    "otherkids = ['abi', 'sami2']\n",
    "kids.append(otherkids)\n",
    "print(kids)"
   ]
  },
  {
   "cell_type": "code",
   "execution_count": null,
   "id": "0f861b5d",
   "metadata": {},
   "outputs": [],
   "source": []
  }
 ],
 "metadata": {
  "kernelspec": {
   "display_name": "Python 3 (ipykernel)",
   "language": "python",
   "name": "python3"
  },
  "language_info": {
   "codemirror_mode": {
    "name": "ipython",
    "version": 3
   },
   "file_extension": ".py",
   "mimetype": "text/x-python",
   "name": "python",
   "nbconvert_exporter": "python",
   "pygments_lexer": "ipython3",
   "version": "3.9.7"
  }
 },
 "nbformat": 4,
 "nbformat_minor": 5
}
